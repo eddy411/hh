{
  "nbformat": 4,
  "nbformat_minor": 0,
  "metadata": {
    "colab": {
      "provenance": [],
      "authorship_tag": "ABX9TyMQS1DkPBR9QFIY6KeZ+3rG",
      "include_colab_link": true
    },
    "kernelspec": {
      "name": "python3",
      "display_name": "Python 3"
    },
    "language_info": {
      "name": "python"
    }
  },
  "cells": [
    {
      "cell_type": "markdown",
      "metadata": {
        "id": "view-in-github",
        "colab_type": "text"
      },
      "source": [
        "<a href=\"https://colab.research.google.com/github/eddy411/hh/blob/main/CALCULATOR.ipynb\" target=\"_parent\"><img src=\"https://colab.research.google.com/assets/colab-badge.svg\" alt=\"Open In Colab\"/></a>"
      ]
    },
    {
      "cell_type": "code",
      "source": [
        "# 🧮 Advanced Calculator in Python\n",
        "# Paste this into Google Colab and run\n",
        "\n",
        "import math\n",
        "import numpy as np\n",
        "\n",
        "def add(a, b): return a + b\n",
        "def sub(a, b): return a - b\n",
        "def mul(a, b): return a * b\n",
        "def div(a, b): return a / b if b != 0 else float('inf')\n",
        "def power(a, b): return a ** b\n",
        "def sqrt(a): return math.sqrt(a)\n",
        "def log(a): return math.log(a)\n",
        "def sin(a): return math.sin(math.radians(a))\n",
        "def cos(a): return math.cos(math.radians(a))\n",
        "def tan(a): return math.tan(math.radians(a))\n",
        "def mean(nums): return np.mean(nums)\n",
        "def median(nums): return np.median(nums)\n",
        "def std(nums): return np.std(nums)\n",
        "\n",
        "def run_calculator():\n",
        "    print(\"🧮 Advanced Calculator (type 'exit' to quit)\")\n",
        "    while True:\n",
        "        print(\"\\nAvailable operations:\")\n",
        "        print(\"add, sub, mul, div, power, sqrt, log, sin, cos, tan, mean, median, std\")\n",
        "        op = input(\"Enter operation: \").strip().lower()\n",
        "        if op == \"exit\":\n",
        "            print(\"Goodbye 👋\")\n",
        "            break\n",
        "\n",
        "        try:\n",
        "            if op in [\"add\", \"sub\", \"mul\", \"div\", \"power\"]:\n",
        "                a = float(input(\"Enter first number: \"))\n",
        "                b = float(input(\"Enter second number: \"))\n",
        "                print(\"Result:\", globals()[op](a, b))\n",
        "\n",
        "            elif op in [\"sqrt\", \"log\", \"sin\", \"cos\", \"tan\"]:\n",
        "                a = float(input(\"Enter number: \"))\n",
        "                print(\"Result:\", globals()[op](a))\n",
        "\n",
        "            elif op in [\"mean\", \"median\", \"std\"]:\n",
        "                nums = input(\"Enter numbers separated by commas: \")\n",
        "                nums = [float(x) for x in nums.split(\",\")]\n",
        "                print(\"Result:\", globals()[op](nums))\n",
        "            else:\n",
        "                print(\"❌ Invalid operation\")\n",
        "\n",
        "        except Exception as e:\n",
        "            print(\"Error:\", e)\n",
        "\n",
        "run_calculator()"
      ],
      "metadata": {
        "colab": {
          "base_uri": "https://localhost:8080/"
        },
        "id": "pIic3Fuy0Oqa",
        "outputId": "de2688d9-2dc3-4770-f41a-814f7b6f113f"
      },
      "execution_count": 14,
      "outputs": [
        {
          "output_type": "stream",
          "name": "stdout",
          "text": [
            "🧮 Advanced Calculator (type 'exit' to quit)\n",
            "\n",
            "Available operations:\n",
            "add, sub, mul, div, power, sqrt, log, sin, cos, tan, mean, median, std\n",
            "Enter operation: exit\n",
            "Goodbye 👋\n"
          ]
        }
      ]
    }
  ]
}